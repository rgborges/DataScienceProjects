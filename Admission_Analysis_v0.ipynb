{
  "nbformat": 4,
  "nbformat_minor": 0,
  "metadata": {
    "colab": {
      "name": "Admission_Analysis_v0.ipynb",
      "provenance": [],
      "toc_visible": true,
      "include_colab_link": true
    },
    "kernelspec": {
      "name": "python3",
      "display_name": "Python 3"
    }
  },
  "cells": [
    {
      "cell_type": "markdown",
      "metadata": {
        "id": "view-in-github",
        "colab_type": "text"
      },
      "source": [
        "<a href=\"https://colab.research.google.com/github/rgborges/DataScienceProjects/blob/master/Admission_Analysis_v0.ipynb\" target=\"_parent\"><img src=\"https://colab.research.google.com/assets/colab-badge.svg\" alt=\"Open In Colab\"/></a>"
      ]
    },
    {
      "cell_type": "code",
      "metadata": {
        "id": "GtuasOUadRvj",
        "colab_type": "code",
        "outputId": "de7c5641-175b-4380-8642-4d14b00889bf",
        "colab": {
          "base_uri": "https://localhost:8080/",
          "height": 122
        }
      },
      "source": [
        "from google.colab import drive \n",
        "drive.mount('/content/gdrive')\n",
        "\n"
      ],
      "execution_count": 1,
      "outputs": [
        {
          "output_type": "stream",
          "text": [
            "Go to this URL in a browser: https://accounts.google.com/o/oauth2/auth?client_id=947318989803-6bn6qk8qdgf4n4g3pfee6491hc0brc4i.apps.googleusercontent.com&redirect_uri=urn%3aietf%3awg%3aoauth%3a2.0%3aoob&response_type=code&scope=email%20https%3a%2f%2fwww.googleapis.com%2fauth%2fdocs.test%20https%3a%2f%2fwww.googleapis.com%2fauth%2fdrive%20https%3a%2f%2fwww.googleapis.com%2fauth%2fdrive.photos.readonly%20https%3a%2f%2fwww.googleapis.com%2fauth%2fpeopleapi.readonly\n",
            "\n",
            "Enter your authorization code:\n",
            "··········\n",
            "Mounted at /content/gdrive\n"
          ],
          "name": "stdout"
        }
      ]
    },
    {
      "cell_type": "markdown",
      "metadata": {
        "id": "dS3pXG8RLB9Z",
        "colab_type": "text"
      },
      "source": [
        "**Context**\n",
        "This dataset is created for prediction of Graduate Admissions from an Indian perspective.\n",
        "\n",
        "**Content**\n",
        "The dataset contains several parameters which are considered important during the application for Masters Programs. The parameters included are : 1. GRE Scores ( out of 340 ) 2. TOEFL Scores ( out of 120 ) 3. University Rating ( out of 5 ) 4. Statement of Purpose and Letter of Recommendation Strength ( out of 5 ) 5. Undergraduate GPA ( out of 10 ) 6. Research Experience ( either 0 or 1 ) 7. Chance of Admit ( ranging from 0 to 1 )\n",
        "\n",
        "**Acknowledgements**\n",
        "This dataset is inspired by the UCLA Graduate Dataset. The test scores and GPA are in the older format. The dataset is owned by Mohan S Acharya.\n",
        "\n",
        "**Inspiration**\n",
        "This dataset was built with the purpose of helping students in shortlisting universities with their profiles. The predicted output gives them a fair idea about their chances for a particular university.\n",
        "\n",
        "**Citation**\n",
        "Please cite the following if you are interested in using the dataset : Mohan S Acharya, Asfia Armaan, Aneeta S Antony : A Comparison of Regression Models for Prediction of Graduate Admissions, IEEE International Conference on Computational Intelligence in Data Science 2019\n",
        "\n",
        "I would like to thank all of you for contributing to this dataset through discussions and questions. I am in awe of the number of kernels built on this dataset. Some results and visualisations are fantastic and makes me a proud owner of the dataset. Keep em' coming! Thank You."
      ]
    },
    {
      "cell_type": "code",
      "metadata": {
        "id": "bfxgc9SYBotb",
        "colab_type": "code",
        "colab": {}
      },
      "source": [
        "!pip install plotnine"
      ],
      "execution_count": 0,
      "outputs": []
    },
    {
      "cell_type": "markdown",
      "metadata": {
        "id": "_viq8Mt0gD3r",
        "colab_type": "text"
      },
      "source": [
        "# Importação dos Dados e das Bibliotecas\n",
        "\n",
        "A seguir vamos importar as biliotecas: \n",
        "\n",
        "\n",
        "*   ```Pandas```: Biblioteca para manipulação de tabelas.\n",
        "*   ```Numpy```: Manipulação de dados númericos e matrizes.\n",
        "*   ```Matplot Lib```: Biblioteca para plotar gráficos.\n",
        "*   Seaborn: Biblioteca estatítca para visualização de dados.\n",
        "\n",
        "\n",
        "\n"
      ]
    },
    {
      "cell_type": "code",
      "metadata": {
        "id": "eD1KPfaxCHsB",
        "colab_type": "code",
        "colab": {}
      },
      "source": [
        "import pandas as pd\n",
        "import numpy as np\n",
        "import matplotlib.pyplot as plt\n",
        "import seaborn as sns\n",
        "\n",
        "from plotnine import *\n",
        "from plotnine.data import mpg\n",
        "%matplotlib inline\n",
        "\n"
      ],
      "execution_count": 0,
      "outputs": []
    },
    {
      "cell_type": "markdown",
      "metadata": {
        "id": "bioQGp2qktI6",
        "colab_type": "text"
      },
      "source": [
        ""
      ]
    },
    {
      "cell_type": "code",
      "metadata": {
        "id": "MyL72n_Tvfn0",
        "colab_type": "code",
        "colab": {}
      },
      "source": [
        " file = pd.read_csv('/content/gdrive/My Drive/Colab Notebooks/Datasets/Dataset - Graduation Program/Admission_Predict.csv',\n",
        "                    header=None,\n",
        "                    skiprows=[0],\n",
        "                    names=['Id',\n",
        "                           'GRE_Score',\n",
        "                           'TOEFL_Score',\n",
        "                           'University_Rate',\n",
        "                           'SOP',\n",
        "                           'LOR',\n",
        "                           'CGPA',\n",
        "                           'Research',\n",
        "                           'Chance_of_Admit'])"
      ],
      "execution_count": 0,
      "outputs": []
    },
    {
      "cell_type": "code",
      "metadata": {
        "id": "xoAGZJ_y3GsU",
        "colab_type": "code",
        "colab": {}
      },
      "source": [
        "df = file"
      ],
      "execution_count": 0,
      "outputs": []
    },
    {
      "cell_type": "code",
      "metadata": {
        "id": "2rVYPgkftm2Z",
        "colab_type": "code",
        "outputId": "7465d5fe-2689-43f3-ee2a-32bb8cf89444",
        "colab": {
          "base_uri": "https://localhost:8080/",
          "height": 379
        }
      },
      "source": [
        "df.head(10)"
      ],
      "execution_count": 0,
      "outputs": [
        {
          "output_type": "execute_result",
          "data": {
            "text/html": [
              "<div>\n",
              "<style scoped>\n",
              "    .dataframe tbody tr th:only-of-type {\n",
              "        vertical-align: middle;\n",
              "    }\n",
              "\n",
              "    .dataframe tbody tr th {\n",
              "        vertical-align: top;\n",
              "    }\n",
              "\n",
              "    .dataframe thead th {\n",
              "        text-align: right;\n",
              "    }\n",
              "</style>\n",
              "<table border=\"1\" class=\"dataframe\">\n",
              "  <thead>\n",
              "    <tr style=\"text-align: right;\">\n",
              "      <th></th>\n",
              "      <th>GRE_Score</th>\n",
              "      <th>TOEFL_Score</th>\n",
              "      <th>University_Rate</th>\n",
              "      <th>SOP</th>\n",
              "      <th>LOR</th>\n",
              "      <th>CGPA</th>\n",
              "      <th>Research</th>\n",
              "      <th>Chance_of_Admit</th>\n",
              "    </tr>\n",
              "  </thead>\n",
              "  <tbody>\n",
              "    <tr>\n",
              "      <th>0</th>\n",
              "      <td>337</td>\n",
              "      <td>118</td>\n",
              "      <td>4</td>\n",
              "      <td>4.5</td>\n",
              "      <td>4.5</td>\n",
              "      <td>9.65</td>\n",
              "      <td>1</td>\n",
              "      <td>0.92</td>\n",
              "    </tr>\n",
              "    <tr>\n",
              "      <th>1</th>\n",
              "      <td>324</td>\n",
              "      <td>107</td>\n",
              "      <td>4</td>\n",
              "      <td>4.0</td>\n",
              "      <td>4.5</td>\n",
              "      <td>8.87</td>\n",
              "      <td>1</td>\n",
              "      <td>0.76</td>\n",
              "    </tr>\n",
              "    <tr>\n",
              "      <th>2</th>\n",
              "      <td>316</td>\n",
              "      <td>104</td>\n",
              "      <td>3</td>\n",
              "      <td>3.0</td>\n",
              "      <td>3.5</td>\n",
              "      <td>8.00</td>\n",
              "      <td>1</td>\n",
              "      <td>0.72</td>\n",
              "    </tr>\n",
              "    <tr>\n",
              "      <th>3</th>\n",
              "      <td>322</td>\n",
              "      <td>110</td>\n",
              "      <td>3</td>\n",
              "      <td>3.5</td>\n",
              "      <td>2.5</td>\n",
              "      <td>8.67</td>\n",
              "      <td>1</td>\n",
              "      <td>0.80</td>\n",
              "    </tr>\n",
              "    <tr>\n",
              "      <th>4</th>\n",
              "      <td>314</td>\n",
              "      <td>103</td>\n",
              "      <td>2</td>\n",
              "      <td>2.0</td>\n",
              "      <td>3.0</td>\n",
              "      <td>8.21</td>\n",
              "      <td>0</td>\n",
              "      <td>0.65</td>\n",
              "    </tr>\n",
              "    <tr>\n",
              "      <th>5</th>\n",
              "      <td>330</td>\n",
              "      <td>115</td>\n",
              "      <td>5</td>\n",
              "      <td>4.5</td>\n",
              "      <td>3.0</td>\n",
              "      <td>9.34</td>\n",
              "      <td>1</td>\n",
              "      <td>0.90</td>\n",
              "    </tr>\n",
              "    <tr>\n",
              "      <th>6</th>\n",
              "      <td>321</td>\n",
              "      <td>109</td>\n",
              "      <td>3</td>\n",
              "      <td>3.0</td>\n",
              "      <td>4.0</td>\n",
              "      <td>8.20</td>\n",
              "      <td>1</td>\n",
              "      <td>0.75</td>\n",
              "    </tr>\n",
              "    <tr>\n",
              "      <th>7</th>\n",
              "      <td>308</td>\n",
              "      <td>101</td>\n",
              "      <td>2</td>\n",
              "      <td>3.0</td>\n",
              "      <td>4.0</td>\n",
              "      <td>7.90</td>\n",
              "      <td>0</td>\n",
              "      <td>0.68</td>\n",
              "    </tr>\n",
              "    <tr>\n",
              "      <th>8</th>\n",
              "      <td>302</td>\n",
              "      <td>102</td>\n",
              "      <td>1</td>\n",
              "      <td>2.0</td>\n",
              "      <td>1.5</td>\n",
              "      <td>8.00</td>\n",
              "      <td>0</td>\n",
              "      <td>0.50</td>\n",
              "    </tr>\n",
              "    <tr>\n",
              "      <th>9</th>\n",
              "      <td>323</td>\n",
              "      <td>108</td>\n",
              "      <td>3</td>\n",
              "      <td>3.5</td>\n",
              "      <td>3.0</td>\n",
              "      <td>8.60</td>\n",
              "      <td>0</td>\n",
              "      <td>0.45</td>\n",
              "    </tr>\n",
              "  </tbody>\n",
              "</table>\n",
              "</div>"
            ],
            "text/plain": [
              "   GRE_Score  TOEFL_Score  University_Rate  ...  CGPA  Research  Chance_of_Admit\n",
              "0        337          118                4  ...  9.65         1             0.92\n",
              "1        324          107                4  ...  8.87         1             0.76\n",
              "2        316          104                3  ...  8.00         1             0.72\n",
              "3        322          110                3  ...  8.67         1             0.80\n",
              "4        314          103                2  ...  8.21         0             0.65\n",
              "5        330          115                5  ...  9.34         1             0.90\n",
              "6        321          109                3  ...  8.20         1             0.75\n",
              "7        308          101                2  ...  7.90         0             0.68\n",
              "8        302          102                1  ...  8.00         0             0.50\n",
              "9        323          108                3  ...  8.60         0             0.45\n",
              "\n",
              "[10 rows x 8 columns]"
            ]
          },
          "metadata": {
            "tags": []
          },
          "execution_count": 6
        }
      ]
    },
    {
      "cell_type": "code",
      "metadata": {
        "id": "YsxtIRhI-bo9",
        "colab_type": "code",
        "outputId": "81cd81bb-fab8-49b3-8237-20f531927082",
        "colab": {
          "base_uri": "https://localhost:8080/",
          "height": 317
        }
      },
      "source": [
        "df = df.drop('Id', 1)\n",
        "df.describe(include='all')"
      ],
      "execution_count": 0,
      "outputs": [
        {
          "output_type": "execute_result",
          "data": {
            "text/html": [
              "<div>\n",
              "<style scoped>\n",
              "    .dataframe tbody tr th:only-of-type {\n",
              "        vertical-align: middle;\n",
              "    }\n",
              "\n",
              "    .dataframe tbody tr th {\n",
              "        vertical-align: top;\n",
              "    }\n",
              "\n",
              "    .dataframe thead th {\n",
              "        text-align: right;\n",
              "    }\n",
              "</style>\n",
              "<table border=\"1\" class=\"dataframe\">\n",
              "  <thead>\n",
              "    <tr style=\"text-align: right;\">\n",
              "      <th></th>\n",
              "      <th>GRE_Score</th>\n",
              "      <th>TOEFL_Score</th>\n",
              "      <th>University_Rate</th>\n",
              "      <th>SOP</th>\n",
              "      <th>LOR</th>\n",
              "      <th>CGPA</th>\n",
              "      <th>Research</th>\n",
              "      <th>Chance_of_Admit</th>\n",
              "    </tr>\n",
              "  </thead>\n",
              "  <tbody>\n",
              "    <tr>\n",
              "      <th>count</th>\n",
              "      <td>400.000000</td>\n",
              "      <td>400.000000</td>\n",
              "      <td>400.000000</td>\n",
              "      <td>400.000000</td>\n",
              "      <td>400.000000</td>\n",
              "      <td>400.000000</td>\n",
              "      <td>400.000000</td>\n",
              "      <td>400.000000</td>\n",
              "    </tr>\n",
              "    <tr>\n",
              "      <th>mean</th>\n",
              "      <td>316.807500</td>\n",
              "      <td>107.410000</td>\n",
              "      <td>3.087500</td>\n",
              "      <td>3.400000</td>\n",
              "      <td>3.452500</td>\n",
              "      <td>8.598925</td>\n",
              "      <td>0.547500</td>\n",
              "      <td>0.724350</td>\n",
              "    </tr>\n",
              "    <tr>\n",
              "      <th>std</th>\n",
              "      <td>11.473646</td>\n",
              "      <td>6.069514</td>\n",
              "      <td>1.143728</td>\n",
              "      <td>1.006869</td>\n",
              "      <td>0.898478</td>\n",
              "      <td>0.596317</td>\n",
              "      <td>0.498362</td>\n",
              "      <td>0.142609</td>\n",
              "    </tr>\n",
              "    <tr>\n",
              "      <th>min</th>\n",
              "      <td>290.000000</td>\n",
              "      <td>92.000000</td>\n",
              "      <td>1.000000</td>\n",
              "      <td>1.000000</td>\n",
              "      <td>1.000000</td>\n",
              "      <td>6.800000</td>\n",
              "      <td>0.000000</td>\n",
              "      <td>0.340000</td>\n",
              "    </tr>\n",
              "    <tr>\n",
              "      <th>25%</th>\n",
              "      <td>308.000000</td>\n",
              "      <td>103.000000</td>\n",
              "      <td>2.000000</td>\n",
              "      <td>2.500000</td>\n",
              "      <td>3.000000</td>\n",
              "      <td>8.170000</td>\n",
              "      <td>0.000000</td>\n",
              "      <td>0.640000</td>\n",
              "    </tr>\n",
              "    <tr>\n",
              "      <th>50%</th>\n",
              "      <td>317.000000</td>\n",
              "      <td>107.000000</td>\n",
              "      <td>3.000000</td>\n",
              "      <td>3.500000</td>\n",
              "      <td>3.500000</td>\n",
              "      <td>8.610000</td>\n",
              "      <td>1.000000</td>\n",
              "      <td>0.730000</td>\n",
              "    </tr>\n",
              "    <tr>\n",
              "      <th>75%</th>\n",
              "      <td>325.000000</td>\n",
              "      <td>112.000000</td>\n",
              "      <td>4.000000</td>\n",
              "      <td>4.000000</td>\n",
              "      <td>4.000000</td>\n",
              "      <td>9.062500</td>\n",
              "      <td>1.000000</td>\n",
              "      <td>0.830000</td>\n",
              "    </tr>\n",
              "    <tr>\n",
              "      <th>max</th>\n",
              "      <td>340.000000</td>\n",
              "      <td>120.000000</td>\n",
              "      <td>5.000000</td>\n",
              "      <td>5.000000</td>\n",
              "      <td>5.000000</td>\n",
              "      <td>9.920000</td>\n",
              "      <td>1.000000</td>\n",
              "      <td>0.970000</td>\n",
              "    </tr>\n",
              "  </tbody>\n",
              "</table>\n",
              "</div>"
            ],
            "text/plain": [
              "        GRE_Score  TOEFL_Score  ...    Research  Chance_of_Admit\n",
              "count  400.000000   400.000000  ...  400.000000       400.000000\n",
              "mean   316.807500   107.410000  ...    0.547500         0.724350\n",
              "std     11.473646     6.069514  ...    0.498362         0.142609\n",
              "min    290.000000    92.000000  ...    0.000000         0.340000\n",
              "25%    308.000000   103.000000  ...    0.000000         0.640000\n",
              "50%    317.000000   107.000000  ...    1.000000         0.730000\n",
              "75%    325.000000   112.000000  ...    1.000000         0.830000\n",
              "max    340.000000   120.000000  ...    1.000000         0.970000\n",
              "\n",
              "[8 rows x 8 columns]"
            ]
          },
          "metadata": {
            "tags": []
          },
          "execution_count": 5
        }
      ]
    },
    {
      "cell_type": "markdown",
      "metadata": {
        "id": "GvwVQCCzhP4r",
        "colab_type": "text"
      },
      "source": [
        "# Análise Exploratória\n",
        "\n",
        "Nesta sessão estou tentando avaliar as relações das variáveis com a de chance de admissão. A pergunta a ser resolvida é quais atributos mais aumentam as minhas chances de ser admitido."
      ]
    },
    {
      "cell_type": "code",
      "metadata": {
        "id": "kacctkd--obF",
        "colab_type": "code",
        "outputId": "3038389d-20a5-4069-b7b1-223652a2bf4c",
        "colab": {
          "base_uri": "https://localhost:8080/",
          "height": 621
        }
      },
      "source": [
        "(ggplot(df, aes(x = 'TOEFL_Score', y = 'Chance_of_Admit',\n",
        "                color = 'factor(Research)')) +\n",
        " geom_point() +\n",
        " geom_smooth(method= 'lm')\n",
        ")"
      ],
      "execution_count": 0,
      "outputs": [
        {
          "output_type": "stream",
          "text": [
            "/usr/local/lib/python3.6/dist-packages/plotnine/scales/scale.py:93: MatplotlibDeprecationWarning: \n",
            "The iterable function was deprecated in Matplotlib 3.1 and will be removed in 3.3. Use np.iterable instead.\n",
            "  if cbook.iterable(self.breaks) and cbook.iterable(self.labels):\n",
            "/usr/local/lib/python3.6/dist-packages/numpy/core/fromnumeric.py:2495: FutureWarning: Method .ptp is deprecated and will be removed in a future version. Use numpy.ptp instead.\n",
            "  return ptp(axis=axis, out=out, **kwargs)\n",
            "/usr/local/lib/python3.6/dist-packages/plotnine/utils.py:553: MatplotlibDeprecationWarning: \n",
            "The iterable function was deprecated in Matplotlib 3.1 and will be removed in 3.3. Use np.iterable instead.\n",
            "  return cbook.iterable(var) and not is_string(var)\n"
          ],
          "name": "stderr"
        },
        {
          "output_type": "display_data",
          "data": {
            "image/png": "[encoded data removed]",
            "text/plain": [
              "<Figure size 640x480 with 1 Axes>"
            ]
          },
          "metadata": {
            "tags": []
          }
        },
        {
          "output_type": "execute_result",
          "data": {
            "text/plain": [
              "<ggplot: (-9223363277444550733)>"
            ]
          },
          "metadata": {
            "tags": []
          },
          "execution_count": 14
        }
      ]
    },
    {
      "cell_type": "code",
      "metadata": {
        "id": "STKTQ6VxLsCz",
        "colab_type": "code",
        "colab": {}
      },
      "source": [
        "(ggplot(df, aes(x = 'CGPA', y = 'Chance_of_Admit')) +\n",
        " geom_point() +\n",
        " geom_smooth(method= 'lm')\n",
        ")"
      ],
      "execution_count": 0,
      "outputs": []
    },
    {
      "cell_type": "code",
      "metadata": {
        "id": "amyVKMfgMV5o",
        "colab_type": "code",
        "colab": {}
      },
      "source": [
        "(ggplot(df, aes(x = 'GRE_Score', y = 'Chance_of_Admit')) +\n",
        " geom_point()\n",
        ")"
      ],
      "execution_count": 0,
      "outputs": []
    },
    {
      "cell_type": "markdown",
      "metadata": {
        "id": "muzqwx3-si67",
        "colab_type": "text"
      },
      "source": [
        "Os que tiveram pesquisas relacionadas aos seus perfis tiveram mais chances de serem admitidos. O gráfico a seguir mostra a dsitribuição dos candidatos que fizeram e não fizeram pesquisa."
      ]
    },
    {
      "cell_type": "code",
      "metadata": {
        "id": "Xe8OZa0prxRx",
        "colab_type": "code",
        "outputId": "9f5391f7-05e8-4d8b-bfa0-2e719abc8d34",
        "colab": {
          "base_uri": "https://localhost:8080/",
          "height": 643
        }
      },
      "source": [
        "(ggplot(df, aes(x = 'factor(Research)', y = 'Chance_of_Admit')) +\n",
        " geom_boxplot()\n",
        ")"
      ],
      "execution_count": 0,
      "outputs": [
        {
          "output_type": "stream",
          "text": [
            "/usr/local/lib/python3.6/dist-packages/plotnine/scales/scale.py:93: MatplotlibDeprecationWarning: \n",
            "The iterable function was deprecated in Matplotlib 3.1 and will be removed in 3.3. Use np.iterable instead.\n",
            "  if cbook.iterable(self.breaks) and cbook.iterable(self.labels):\n",
            "/usr/local/lib/python3.6/dist-packages/plotnine/utils.py:69: MatplotlibDeprecationWarning: \n",
            "The iterable function was deprecated in Matplotlib 3.1 and will be removed in 3.3. Use np.iterable instead.\n",
            "  if cbook.iterable(val) and not is_string(val):\n",
            "/usr/local/lib/python3.6/dist-packages/plotnine/utils.py:553: MatplotlibDeprecationWarning: \n",
            "The iterable function was deprecated in Matplotlib 3.1 and will be removed in 3.3. Use np.iterable instead.\n",
            "  return cbook.iterable(var) and not is_string(var)\n"
          ],
          "name": "stderr"
        },
        {
          "output_type": "display_data",
          "data": {
            "image/png": "[encoded data removed]",
            "text/plain": [
              "<Figure size 640x480 with 1 Axes>"
            ]
          },
          "metadata": {
            "tags": []
          }
        },
        {
          "output_type": "execute_result",
          "data": {
            "text/plain": [
              "<ggplot: (-9223363277440261046)>"
            ]
          },
          "metadata": {
            "tags": []
          },
          "execution_count": 7
        }
      ]
    },
    {
      "cell_type": "markdown",
      "metadata": {
        "id": "YKx0i3NHIvk_",
        "colab_type": "text"
      },
      "source": [
        "# Correlação entre TOEFL Score x Chance of Admit"
      ]
    },
    {
      "cell_type": "code",
      "metadata": {
        "id": "MHP1zVwnIG6G",
        "colab_type": "code",
        "outputId": "bd1f9f90-4c27-4923-f783-4abe60ea157b",
        "colab": {
          "base_uri": "https://localhost:8080/",
          "height": 51
        }
      },
      "source": [
        "x = df['TOEFL_Score']\n",
        "y = df['Chance_of_Admit']\n",
        "correlation_toefl_ca = np.corrcoef(x, y)\n",
        "correlation_toefl_ca"
      ],
      "execution_count": 0,
      "outputs": [
        {
          "output_type": "execute_result",
          "data": {
            "text/plain": [
              "array([[1.        , 0.79159399],\n",
              "       [0.79159399, 1.        ]])"
            ]
          },
          "metadata": {
            "tags": []
          },
          "execution_count": 7
        }
      ]
    },
    {
      "cell_type": "markdown",
      "metadata": {
        "id": "EqDYnBDWJXhp",
        "colab_type": "text"
      },
      "source": [
        "# Correlações"
      ]
    },
    {
      "cell_type": "code",
      "metadata": {
        "id": "lITI_CDVJRHs",
        "colab_type": "code",
        "outputId": "969afcb6-1e0a-447c-d849-74be5340b505",
        "colab": {
          "base_uri": "https://localhost:8080/",
          "height": 328
        }
      },
      "source": [
        "corr_table = df.corr()\n",
        "corr_table"
      ],
      "execution_count": 0,
      "outputs": [
        {
          "output_type": "execute_result",
          "data": {
            "text/html": [
              "<div>\n",
              "<style scoped>\n",
              "    .dataframe tbody tr th:only-of-type {\n",
              "        vertical-align: middle;\n",
              "    }\n",
              "\n",
              "    .dataframe tbody tr th {\n",
              "        vertical-align: top;\n",
              "    }\n",
              "\n",
              "    .dataframe thead th {\n",
              "        text-align: right;\n",
              "    }\n",
              "</style>\n",
              "<table border=\"1\" class=\"dataframe\">\n",
              "  <thead>\n",
              "    <tr style=\"text-align: right;\">\n",
              "      <th></th>\n",
              "      <th>Id</th>\n",
              "      <th>GRE_Score</th>\n",
              "      <th>TOEFL_Score</th>\n",
              "      <th>University_Rate</th>\n",
              "      <th>SOP</th>\n",
              "      <th>LOR</th>\n",
              "      <th>CGPA</th>\n",
              "      <th>Research</th>\n",
              "      <th>Chance_of_Admit</th>\n",
              "    </tr>\n",
              "  </thead>\n",
              "  <tbody>\n",
              "    <tr>\n",
              "      <th>Id</th>\n",
              "      <td>1.000000</td>\n",
              "      <td>-0.097526</td>\n",
              "      <td>-0.147932</td>\n",
              "      <td>-0.169948</td>\n",
              "      <td>-0.166932</td>\n",
              "      <td>-0.088221</td>\n",
              "      <td>-0.045608</td>\n",
              "      <td>-0.063138</td>\n",
              "      <td>0.042336</td>\n",
              "    </tr>\n",
              "    <tr>\n",
              "      <th>GRE_Score</th>\n",
              "      <td>-0.097526</td>\n",
              "      <td>1.000000</td>\n",
              "      <td>0.835977</td>\n",
              "      <td>0.668976</td>\n",
              "      <td>0.612831</td>\n",
              "      <td>0.557555</td>\n",
              "      <td>0.833060</td>\n",
              "      <td>0.580391</td>\n",
              "      <td>0.802610</td>\n",
              "    </tr>\n",
              "    <tr>\n",
              "      <th>TOEFL_Score</th>\n",
              "      <td>-0.147932</td>\n",
              "      <td>0.835977</td>\n",
              "      <td>1.000000</td>\n",
              "      <td>0.695590</td>\n",
              "      <td>0.657981</td>\n",
              "      <td>0.567721</td>\n",
              "      <td>0.828417</td>\n",
              "      <td>0.489858</td>\n",
              "      <td>0.791594</td>\n",
              "    </tr>\n",
              "    <tr>\n",
              "      <th>University_Rate</th>\n",
              "      <td>-0.169948</td>\n",
              "      <td>0.668976</td>\n",
              "      <td>0.695590</td>\n",
              "      <td>1.000000</td>\n",
              "      <td>0.734523</td>\n",
              "      <td>0.660123</td>\n",
              "      <td>0.746479</td>\n",
              "      <td>0.447783</td>\n",
              "      <td>0.711250</td>\n",
              "    </tr>\n",
              "    <tr>\n",
              "      <th>SOP</th>\n",
              "      <td>-0.166932</td>\n",
              "      <td>0.612831</td>\n",
              "      <td>0.657981</td>\n",
              "      <td>0.734523</td>\n",
              "      <td>1.000000</td>\n",
              "      <td>0.729593</td>\n",
              "      <td>0.718144</td>\n",
              "      <td>0.444029</td>\n",
              "      <td>0.675732</td>\n",
              "    </tr>\n",
              "    <tr>\n",
              "      <th>LOR</th>\n",
              "      <td>-0.088221</td>\n",
              "      <td>0.557555</td>\n",
              "      <td>0.567721</td>\n",
              "      <td>0.660123</td>\n",
              "      <td>0.729593</td>\n",
              "      <td>1.000000</td>\n",
              "      <td>0.670211</td>\n",
              "      <td>0.396859</td>\n",
              "      <td>0.669889</td>\n",
              "    </tr>\n",
              "    <tr>\n",
              "      <th>CGPA</th>\n",
              "      <td>-0.045608</td>\n",
              "      <td>0.833060</td>\n",
              "      <td>0.828417</td>\n",
              "      <td>0.746479</td>\n",
              "      <td>0.718144</td>\n",
              "      <td>0.670211</td>\n",
              "      <td>1.000000</td>\n",
              "      <td>0.521654</td>\n",
              "      <td>0.873289</td>\n",
              "    </tr>\n",
              "    <tr>\n",
              "      <th>Research</th>\n",
              "      <td>-0.063138</td>\n",
              "      <td>0.580391</td>\n",
              "      <td>0.489858</td>\n",
              "      <td>0.447783</td>\n",
              "      <td>0.444029</td>\n",
              "      <td>0.396859</td>\n",
              "      <td>0.521654</td>\n",
              "      <td>1.000000</td>\n",
              "      <td>0.553202</td>\n",
              "    </tr>\n",
              "    <tr>\n",
              "      <th>Chance_of_Admit</th>\n",
              "      <td>0.042336</td>\n",
              "      <td>0.802610</td>\n",
              "      <td>0.791594</td>\n",
              "      <td>0.711250</td>\n",
              "      <td>0.675732</td>\n",
              "      <td>0.669889</td>\n",
              "      <td>0.873289</td>\n",
              "      <td>0.553202</td>\n",
              "      <td>1.000000</td>\n",
              "    </tr>\n",
              "  </tbody>\n",
              "</table>\n",
              "</div>"
            ],
            "text/plain": [
              "                       Id  GRE_Score  ...  Research  Chance_of_Admit\n",
              "Id               1.000000  -0.097526  ... -0.063138         0.042336\n",
              "GRE_Score       -0.097526   1.000000  ...  0.580391         0.802610\n",
              "TOEFL_Score     -0.147932   0.835977  ...  0.489858         0.791594\n",
              "University_Rate -0.169948   0.668976  ...  0.447783         0.711250\n",
              "SOP             -0.166932   0.612831  ...  0.444029         0.675732\n",
              "LOR             -0.088221   0.557555  ...  0.396859         0.669889\n",
              "CGPA            -0.045608   0.833060  ...  0.521654         0.873289\n",
              "Research        -0.063138   0.580391  ...  1.000000         0.553202\n",
              "Chance_of_Admit  0.042336   0.802610  ...  0.553202         1.000000\n",
              "\n",
              "[9 rows x 9 columns]"
            ]
          },
          "metadata": {
            "tags": []
          },
          "execution_count": 8
        }
      ]
    },
    {
      "cell_type": "code",
      "metadata": {
        "id": "jNl8XW9rJbzP",
        "colab_type": "code",
        "outputId": "34d77117-d638-46f3-e673-8acdb67704f4",
        "colab": {
          "base_uri": "https://localhost:8080/",
          "height": 263
        }
      },
      "source": [
        "plt.matshow(corr_table)\n",
        "plt.xticks(range(len(df.columns)), df.columns)\n",
        "plt.yticks(range(len(df.columns)), df.columns)\n",
        "plt.colorbar()\n",
        "plt.show()"
      ],
      "execution_count": 0,
      "outputs": [
        {
          "output_type": "display_data",
          "data": {
            "image/png": "[encoded data removed]",
            "text/plain": [
              "<Figure size 288x288 with 2 Axes>"
            ]
          },
          "metadata": {
            "tags": []
          }
        }
      ]
    },
    {
      "cell_type": "markdown",
      "metadata": {
        "id": "RzqFU0YJdU3P",
        "colab_type": "text"
      },
      "source": [
        ""
      ]
    },
    {
      "cell_type": "markdown",
      "metadata": {
        "id": "7bk15zS2KNXU",
        "colab_type": "text"
      },
      "source": [
        "Podemos ver pelo gráfico de correlações que CGPA, GRE_Score e TOEFL_Score são altamente correlacionados com a Chance de admissão."
      ]
    },
    {
      "cell_type": "markdown",
      "metadata": {
        "id": "Ov8I1tBZRemZ",
        "colab_type": "text"
      },
      "source": [
        "# Regressão Linear\n",
        "\n",
        "Podemos ver com as análises acima que as variáveis independentes tem uma relação linear com a variável dependente 'Chance de Admissão'.\n",
        "\n"
      ]
    },
    {
      "cell_type": "code",
      "metadata": {
        "id": "vi7uGjf0TngV",
        "colab_type": "code",
        "colab": {}
      },
      "source": [
        "from sklearn import linear_model\n",
        "import statsmodels.api as sm\n",
        "from scipy import stats"
      ],
      "execution_count": 0,
      "outputs": []
    },
    {
      "cell_type": "code",
      "metadata": {
        "id": "oY1L2l6QUOc7",
        "colab_type": "code",
        "outputId": "5f06eb82-d913-4ed3-fb63-54629ed38abe",
        "colab": {
          "base_uri": "https://localhost:8080/",
          "height": 419
        }
      },
      "source": [
        "y = df[['Chance_of_Admit']]\n",
        "y"
      ],
      "execution_count": 0,
      "outputs": [
        {
          "output_type": "execute_result",
          "data": {
            "text/html": [
              "<div>\n",
              "<style scoped>\n",
              "    .dataframe tbody tr th:only-of-type {\n",
              "        vertical-align: middle;\n",
              "    }\n",
              "\n",
              "    .dataframe tbody tr th {\n",
              "        vertical-align: top;\n",
              "    }\n",
              "\n",
              "    .dataframe thead th {\n",
              "        text-align: right;\n",
              "    }\n",
              "</style>\n",
              "<table border=\"1\" class=\"dataframe\">\n",
              "  <thead>\n",
              "    <tr style=\"text-align: right;\">\n",
              "      <th></th>\n",
              "      <th>Chance_of_Admit</th>\n",
              "    </tr>\n",
              "  </thead>\n",
              "  <tbody>\n",
              "    <tr>\n",
              "      <th>0</th>\n",
              "      <td>0.92</td>\n",
              "    </tr>\n",
              "    <tr>\n",
              "      <th>1</th>\n",
              "      <td>0.76</td>\n",
              "    </tr>\n",
              "    <tr>\n",
              "      <th>2</th>\n",
              "      <td>0.72</td>\n",
              "    </tr>\n",
              "    <tr>\n",
              "      <th>3</th>\n",
              "      <td>0.80</td>\n",
              "    </tr>\n",
              "    <tr>\n",
              "      <th>4</th>\n",
              "      <td>0.65</td>\n",
              "    </tr>\n",
              "    <tr>\n",
              "      <th>...</th>\n",
              "      <td>...</td>\n",
              "    </tr>\n",
              "    <tr>\n",
              "      <th>395</th>\n",
              "      <td>0.82</td>\n",
              "    </tr>\n",
              "    <tr>\n",
              "      <th>396</th>\n",
              "      <td>0.84</td>\n",
              "    </tr>\n",
              "    <tr>\n",
              "      <th>397</th>\n",
              "      <td>0.91</td>\n",
              "    </tr>\n",
              "    <tr>\n",
              "      <th>398</th>\n",
              "      <td>0.67</td>\n",
              "    </tr>\n",
              "    <tr>\n",
              "      <th>399</th>\n",
              "      <td>0.95</td>\n",
              "    </tr>\n",
              "  </tbody>\n",
              "</table>\n",
              "<p>400 rows × 1 columns</p>\n",
              "</div>"
            ],
            "text/plain": [
              "     Chance_of_Admit\n",
              "0               0.92\n",
              "1               0.76\n",
              "2               0.72\n",
              "3               0.80\n",
              "4               0.65\n",
              "..               ...\n",
              "395             0.82\n",
              "396             0.84\n",
              "397             0.91\n",
              "398             0.67\n",
              "399             0.95\n",
              "\n",
              "[400 rows x 1 columns]"
            ]
          },
          "metadata": {
            "tags": []
          },
          "execution_count": 11
        }
      ]
    },
    {
      "cell_type": "code",
      "metadata": {
        "id": "-Q-IzLZ2TsH4",
        "colab_type": "code",
        "outputId": "095a81b4-cb4a-4714-89ad-af5514e269a6",
        "colab": {
          "base_uri": "https://localhost:8080/",
          "height": 419
        }
      },
      "source": [
        "X = df[['GRE_Score']+['TOEFL_Score']+['University_Rate']+['SOP']+['LOR']+['CGPA']]\n",
        "X"
      ],
      "execution_count": 0,
      "outputs": [
        {
          "output_type": "execute_result",
          "data": {
            "text/html": [
              "<div>\n",
              "<style scoped>\n",
              "    .dataframe tbody tr th:only-of-type {\n",
              "        vertical-align: middle;\n",
              "    }\n",
              "\n",
              "    .dataframe tbody tr th {\n",
              "        vertical-align: top;\n",
              "    }\n",
              "\n",
              "    .dataframe thead th {\n",
              "        text-align: right;\n",
              "    }\n",
              "</style>\n",
              "<table border=\"1\" class=\"dataframe\">\n",
              "  <thead>\n",
              "    <tr style=\"text-align: right;\">\n",
              "      <th></th>\n",
              "      <th>GRE_Score</th>\n",
              "      <th>TOEFL_Score</th>\n",
              "      <th>University_Rate</th>\n",
              "      <th>SOP</th>\n",
              "      <th>LOR</th>\n",
              "      <th>CGPA</th>\n",
              "    </tr>\n",
              "  </thead>\n",
              "  <tbody>\n",
              "    <tr>\n",
              "      <th>0</th>\n",
              "      <td>337</td>\n",
              "      <td>118</td>\n",
              "      <td>4</td>\n",
              "      <td>4.5</td>\n",
              "      <td>4.5</td>\n",
              "      <td>9.65</td>\n",
              "    </tr>\n",
              "    <tr>\n",
              "      <th>1</th>\n",
              "      <td>324</td>\n",
              "      <td>107</td>\n",
              "      <td>4</td>\n",
              "      <td>4.0</td>\n",
              "      <td>4.5</td>\n",
              "      <td>8.87</td>\n",
              "    </tr>\n",
              "    <tr>\n",
              "      <th>2</th>\n",
              "      <td>316</td>\n",
              "      <td>104</td>\n",
              "      <td>3</td>\n",
              "      <td>3.0</td>\n",
              "      <td>3.5</td>\n",
              "      <td>8.00</td>\n",
              "    </tr>\n",
              "    <tr>\n",
              "      <th>3</th>\n",
              "      <td>322</td>\n",
              "      <td>110</td>\n",
              "      <td>3</td>\n",
              "      <td>3.5</td>\n",
              "      <td>2.5</td>\n",
              "      <td>8.67</td>\n",
              "    </tr>\n",
              "    <tr>\n",
              "      <th>4</th>\n",
              "      <td>314</td>\n",
              "      <td>103</td>\n",
              "      <td>2</td>\n",
              "      <td>2.0</td>\n",
              "      <td>3.0</td>\n",
              "      <td>8.21</td>\n",
              "    </tr>\n",
              "    <tr>\n",
              "      <th>...</th>\n",
              "      <td>...</td>\n",
              "      <td>...</td>\n",
              "      <td>...</td>\n",
              "      <td>...</td>\n",
              "      <td>...</td>\n",
              "      <td>...</td>\n",
              "    </tr>\n",
              "    <tr>\n",
              "      <th>395</th>\n",
              "      <td>324</td>\n",
              "      <td>110</td>\n",
              "      <td>3</td>\n",
              "      <td>3.5</td>\n",
              "      <td>3.5</td>\n",
              "      <td>9.04</td>\n",
              "    </tr>\n",
              "    <tr>\n",
              "      <th>396</th>\n",
              "      <td>325</td>\n",
              "      <td>107</td>\n",
              "      <td>3</td>\n",
              "      <td>3.0</td>\n",
              "      <td>3.5</td>\n",
              "      <td>9.11</td>\n",
              "    </tr>\n",
              "    <tr>\n",
              "      <th>397</th>\n",
              "      <td>330</td>\n",
              "      <td>116</td>\n",
              "      <td>4</td>\n",
              "      <td>5.0</td>\n",
              "      <td>4.5</td>\n",
              "      <td>9.45</td>\n",
              "    </tr>\n",
              "    <tr>\n",
              "      <th>398</th>\n",
              "      <td>312</td>\n",
              "      <td>103</td>\n",
              "      <td>3</td>\n",
              "      <td>3.5</td>\n",
              "      <td>4.0</td>\n",
              "      <td>8.78</td>\n",
              "    </tr>\n",
              "    <tr>\n",
              "      <th>399</th>\n",
              "      <td>333</td>\n",
              "      <td>117</td>\n",
              "      <td>4</td>\n",
              "      <td>5.0</td>\n",
              "      <td>4.0</td>\n",
              "      <td>9.66</td>\n",
              "    </tr>\n",
              "  </tbody>\n",
              "</table>\n",
              "<p>400 rows × 6 columns</p>\n",
              "</div>"
            ],
            "text/plain": [
              "     GRE_Score  TOEFL_Score  University_Rate  SOP  LOR  CGPA\n",
              "0          337          118                4  4.5  4.5  9.65\n",
              "1          324          107                4  4.0  4.5  8.87\n",
              "2          316          104                3  3.0  3.5  8.00\n",
              "3          322          110                3  3.5  2.5  8.67\n",
              "4          314          103                2  2.0  3.0  8.21\n",
              "..         ...          ...              ...  ...  ...   ...\n",
              "395        324          110                3  3.5  3.5  9.04\n",
              "396        325          107                3  3.0  3.5  9.11\n",
              "397        330          116                4  5.0  4.5  9.45\n",
              "398        312          103                3  3.5  4.0  8.78\n",
              "399        333          117                4  5.0  4.0  9.66\n",
              "\n",
              "[400 rows x 6 columns]"
            ]
          },
          "metadata": {
            "tags": []
          },
          "execution_count": 12
        }
      ]
    },
    {
      "cell_type": "code",
      "metadata": {
        "id": "Hemx0v84X4Gb",
        "colab_type": "code",
        "outputId": "af5f68a7-a6f8-4379-9f15-8751ed7289b7",
        "colab": {
          "base_uri": "https://localhost:8080/",
          "height": 71
        }
      },
      "source": [
        "X1 = sm.add_constant(X)\n",
        "admission_model1 = sm.OLS(y, X1).fit()"
      ],
      "execution_count": 0,
      "outputs": [
        {
          "output_type": "stream",
          "text": [
            "/usr/local/lib/python3.6/dist-packages/numpy/core/fromnumeric.py:2495: FutureWarning: Method .ptp is deprecated and will be removed in a future version. Use numpy.ptp instead.\n",
            "  return ptp(axis=axis, out=out, **kwargs)\n"
          ],
          "name": "stderr"
        }
      ]
    },
    {
      "cell_type": "code",
      "metadata": {
        "id": "0g4tORIGYasQ",
        "colab_type": "code",
        "outputId": "3167391d-3d04-499e-f173-acce2a7104b6",
        "colab": {
          "base_uri": "https://localhost:8080/",
          "height": 581
        }
      },
      "source": [
        "#Imprime a tabela do modelo linear\n",
        "print(admission_model1.summary())"
      ],
      "execution_count": 0,
      "outputs": [
        {
          "output_type": "stream",
          "text": [
            "                            OLS Regression Results                            \n",
            "==============================================================================\n",
            "Dep. Variable:        Chance_of_Admit   R-squared:                       0.799\n",
            "Model:                            OLS   Adj. R-squared:                  0.796\n",
            "Method:                 Least Squares   F-statistic:                     259.9\n",
            "Date:                Thu, 28 Nov 2019   Prob (F-statistic):          1.99e-133\n",
            "Time:                        18:16:58   Log-Likelihood:                 532.59\n",
            "No. Observations:                 400   AIC:                            -1051.\n",
            "Df Residuals:                     393   BIC:                            -1023.\n",
            "Df Model:                           6                                         \n",
            "Covariance Type:            nonrobust                                         \n",
            "===================================================================================\n",
            "                      coef    std err          t      P>|t|      [0.025      0.975]\n",
            "-----------------------------------------------------------------------------------\n",
            "const              -1.4139      0.115    -12.247      0.000      -1.641      -1.187\n",
            "GRE_Score           0.0023      0.001      3.938      0.000       0.001       0.003\n",
            "TOEFL_Score         0.0028      0.001      2.503      0.013       0.001       0.005\n",
            "University_Rate     0.0061      0.005      1.258      0.209      -0.003       0.016\n",
            "SOP                -0.0020      0.006     -0.350      0.727      -0.013       0.009\n",
            "LOR                 0.0227      0.006      4.063      0.000       0.012       0.034\n",
            "CGPA                0.1199      0.012      9.709      0.000       0.096       0.144\n",
            "==============================================================================\n",
            "Omnibus:                       93.313   Durbin-Watson:                   0.797\n",
            "Prob(Omnibus):                  0.000   Jarque-Bera (JB):              208.389\n",
            "Skew:                          -1.190   Prob(JB):                     5.61e-46\n",
            "Kurtosis:                       5.615   Cond. No.                     1.20e+04\n",
            "==============================================================================\n",
            "\n",
            "Warnings:\n",
            "[1] Standard Errors assume that the covariance matrix of the errors is correctly specified.\n",
            "[2] The condition number is large, 1.2e+04. This might indicate that there are\n",
            "strong multicollinearity or other numerical problems.\n"
          ],
          "name": "stdout"
        }
      ]
    },
    {
      "cell_type": "code",
      "metadata": {
        "id": "rQ8jvq6tb9gd",
        "colab_type": "code",
        "outputId": "51195d67-ddd4-4f4c-e391-02c91a7669de",
        "colab": {
          "base_uri": "https://localhost:8080/",
          "height": 136
        }
      },
      "source": [
        "#Realiza a função para o estimador VIF, a fim de removermos variáveis com multicoinearidade\n",
        "def vif_cal(input_data, dependent_col):\n",
        "  import statsmodels.formula.api as smf\n",
        "  x_vars = input_data.drop([dependent_col], axis=1)\n",
        "  xvar_names=x_vars.columns\n",
        "  for i in range(0, xvar_names.shape[0]):\n",
        "    y=x_vars[xvar_names[i]]\n",
        "    x=x_vars[xvar_names.drop(xvar_names[i])]\n",
        "    rsq=smf.ols(formula=\"y~x\", data = x_vars).fit().rsquared\n",
        "    vif=round(1/(1-rsq), 2)\n",
        "    print(xvar_names[i], \"VIF = \", vif)\n",
        "\n",
        "\n",
        "vif_cal(input_data=df, dependent_col=\"Chance_of_Admit\")"
      ],
      "execution_count": 0,
      "outputs": [
        {
          "output_type": "stream",
          "text": [
            "GRE_Score VIF =  4.62\n",
            "TOEFL_Score VIF =  4.29\n",
            "University_Rate VIF =  2.92\n",
            "SOP VIF =  3.08\n",
            "LOR VIF =  2.43\n",
            "CGPA VIF =  5.21\n",
            "Research VIF =  1.54\n"
          ],
          "name": "stdout"
        }
      ]
    },
    {
      "cell_type": "code",
      "metadata": {
        "id": "1o0DljUTwz0Q",
        "colab_type": "code",
        "outputId": "54338ee8-caba-4268-c6c8-2573e042fe32",
        "colab": {
          "base_uri": "https://localhost:8080/",
          "height": 598
        }
      },
      "source": [
        "X = df[['GRE_Score']+['TOEFL_Score']+['University_Rate']+['SOP']+['LOR']]\n",
        "X1 = sm.add_constant(X)\n",
        "admission_model2 = sm.OLS(y, X1).fit()\n",
        "print(admission_model2.summary())"
      ],
      "execution_count": 0,
      "outputs": [
        {
          "output_type": "stream",
          "text": [
            "                            OLS Regression Results                            \n",
            "==============================================================================\n",
            "Dep. Variable:        Chance_of_Admit   R-squared:                       0.750\n",
            "Model:                            OLS   Adj. R-squared:                  0.747\n",
            "Method:                 Least Squares   F-statistic:                     236.9\n",
            "Date:                Thu, 28 Nov 2019   Prob (F-statistic):          2.41e-116\n",
            "Time:                        18:18:48   Log-Likelihood:                 489.59\n",
            "No. Observations:                 400   AIC:                            -967.2\n",
            "Df Residuals:                     394   BIC:                            -943.2\n",
            "Df Model:                           5                                         \n",
            "Covariance Type:            nonrobust                                         \n",
            "===================================================================================\n",
            "                      coef    std err          t      P>|t|      [0.025      0.975]\n",
            "-----------------------------------------------------------------------------------\n",
            "const              -1.5448      0.128    -12.115      0.000      -1.795      -1.294\n",
            "GRE_Score           0.0046      0.001      7.752      0.000       0.003       0.006\n",
            "TOEFL_Score         0.0060      0.001      5.151      0.000       0.004       0.008\n",
            "University_Rate     0.0146      0.005      2.780      0.006       0.004       0.025\n",
            "SOP                 0.0059      0.006      0.958      0.338      -0.006       0.018\n",
            "LOR                 0.0337      0.006      5.533      0.000       0.022       0.046\n",
            "==============================================================================\n",
            "Omnibus:                       80.881   Durbin-Watson:                   0.788\n",
            "Prob(Omnibus):                  0.000   Jarque-Bera (JB):              156.411\n",
            "Skew:                          -1.101   Prob(JB):                     1.09e-34\n",
            "Kurtosis:                       5.131   Cond. No.                     1.19e+04\n",
            "==============================================================================\n",
            "\n",
            "Warnings:\n",
            "[1] Standard Errors assume that the covariance matrix of the errors is correctly specified.\n",
            "[2] The condition number is large, 1.19e+04. This might indicate that there are\n",
            "strong multicollinearity or other numerical problems.\n"
          ],
          "name": "stdout"
        },
        {
          "output_type": "stream",
          "text": [
            "/usr/local/lib/python3.6/dist-packages/numpy/core/fromnumeric.py:2495: FutureWarning: Method .ptp is deprecated and will be removed in a future version. Use numpy.ptp instead.\n",
            "  return ptp(axis=axis, out=out, **kwargs)\n"
          ],
          "name": "stderr"
        }
      ]
    },
    {
      "cell_type": "code",
      "metadata": {
        "id": "93nhz21hRg9_",
        "colab_type": "code",
        "colab": {}
      },
      "source": [
        "\n",
        "lm = linear_model.LinearRegression() # cria a classe de modelo linear\n"
      ],
      "execution_count": 0,
      "outputs": []
    },
    {
      "cell_type": "code",
      "metadata": {
        "id": "W_HDF9ZqUiQw",
        "colab_type": "code",
        "colab": {}
      },
      "source": [
        "X = df[['GRE_Score']+['TOEFL_Score']+['University_Rate']+['SOP']+['LOR']+['Research']]\n",
        "y = df[['Chance_of_Admit']]\n",
        "model = lm.fit(X, y) #treina o modelo"
      ],
      "execution_count": 0,
      "outputs": []
    },
    {
      "cell_type": "markdown",
      "metadata": {
        "id": "ybhp5PTweDEt",
        "colab_type": "text"
      },
      "source": [
        "# Teste de Predição Simples\n",
        "Predição simples dentro do modelo linear. Uma outra abordagem seria dividir a base de dados de treinamento e de predição para calcularmos a acurácia do modelo.\n"
      ]
    },
    {
      "cell_type": "code",
      "metadata": {
        "id": "ziOWZH6ZeaIt",
        "colab_type": "code",
        "outputId": "102bfa89-26af-4796-cb37-38aea7cdb4cf",
        "colab": {
          "base_uri": "https://localhost:8080/",
          "height": 255
        }
      },
      "source": [
        "predictions = lm.predict(X)\n",
        "col = ['prediction']\n",
        "table = pd.DataFrame(data = predictions, columns=col)\n",
        "table['real'] = df['Chance_of_Admit']\n",
        "table['error'] = table['real'] - table['prediction']\n",
        "print(table)"
      ],
      "execution_count": 0,
      "outputs": [
        {
          "output_type": "stream",
          "text": [
            "     prediction  real     error\n",
            "0      0.933918  0.92 -0.013918\n",
            "1      0.812632  0.76 -0.052632\n",
            "2      0.710718  0.72  0.009282\n",
            "3      0.740335  0.80  0.059665\n",
            "4      0.634996  0.65  0.015004\n",
            "..          ...   ...       ...\n",
            "395    0.781467  0.82  0.038533\n",
            "396    0.764761  0.84  0.075239\n",
            "397    0.896134  0.91  0.013866\n",
            "398    0.681111  0.67 -0.011111\n",
            "399    0.897535  0.95  0.052465\n",
            "\n",
            "[400 rows x 3 columns]\n"
          ],
          "name": "stdout"
        }
      ]
    },
    {
      "cell_type": "code",
      "metadata": {
        "id": "F0HVRRJfTmCs",
        "colab_type": "code",
        "outputId": "431746e2-fdff-488c-b9dc-28a844aaf86d",
        "colab": {
          "base_uri": "https://localhost:8080/",
          "height": 68
        }
      },
      "source": [
        "r_sq = lm.score(X, y)\n",
        "print('r squared: ', r_sq)\n",
        "print('intercept:', lm.intercept_)\n",
        "print('coefficients:', lm.coef_)"
      ],
      "execution_count": 0,
      "outputs": [
        {
          "output_type": "stream",
          "text": [
            "r squared:  0.7559718358375903\n",
            "intercept: [-1.37710675]\n",
            "coefficients: [[0.00395335 0.00615413 0.01420392 0.00439464 0.03322581 0.02645009]]\n"
          ],
          "name": "stdout"
        }
      ]
    },
    {
      "cell_type": "markdown",
      "metadata": {
        "id": "IS6FwisGj3eY",
        "colab_type": "text"
      },
      "source": [
        "fórmula: GRSCORE*0.00395335 + TOEFL_Score*0.00615413 + University_Rate*0.01420392 + SOP*0.03322581 + LOR*0.02645009 - 1.37710675\n"
      ]
    }
  ]
}