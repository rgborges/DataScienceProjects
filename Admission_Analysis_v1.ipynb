{
  "nbformat": 4,
  "nbformat_minor": 0,
  "metadata": {
    "kernelspec": {
      "language": "python",
      "display_name": "Python 3",
      "name": "python3"
    },
    "language_info": {
      "pygments_lexer": "ipython3",
      "nbconvert_exporter": "python",
      "version": "3.6.4",
      "file_extension": ".py",
      "codemirror_mode": {
        "name": "ipython",
        "version": 3
      },
      "name": "python",
      "mimetype": "text/x-python"
    },
    "colab": {
      "name": "Admission Analysis v1.ipynb",
      "provenance": [],
      "include_colab_link": true
    }
  },
  "cells": [
    {
      "cell_type": "markdown",
      "metadata": {
        "id": "view-in-github",
        "colab_type": "text"
      },
      "source": [
        "<a href=\"https://colab.research.google.com/github/rgborges/DataScienceProjects/blob/master/Admission_Analysis_v1.ipynb\" target=\"_parent\"><img src=\"https://colab.research.google.com/assets/colab-badge.svg\" alt=\"Open In Colab\"/></a>"
      ]
    },
    {
      "cell_type": "code",
      "metadata": {
        "_uuid": "8f2839f25d086af736a60e9eeb907d3b93b6e0e5",
        "_cell_guid": "b1076dfc-b9ad-4769-8c92-a6c4dae69d19",
        "trusted": true,
        "id": "XT0BnFr7LvlI",
        "colab_type": "code",
        "colab": {}
      },
      "source": [
        "# This Python 3 environment comes with many helpful analytics libraries installed\n",
        "# It is defined by the kaggle/python docker image: https://github.com/kaggle/docker-python\n",
        "# For example, here's several helpful packages to load in \n",
        "\n",
        "import numpy as np # linear algebra\n",
        "import pandas as pd # data processing, CSV file I/O (e.g. pd.read_csv)\n",
        "import matplotlib.pyplot as plt\n",
        "import seaborn as sns\n",
        "\n",
        "from plotnine import *\n",
        "from plotnine.data import mpg\n",
        "%matplotlib inline\n",
        "\n",
        "# Input data files are available in the \"../input/\" directory.\n",
        "# For example, running this (by clicking run or pressing Shift+Enter) will list all files under the input directory\n",
        "\n",
        "import os\n",
        "for dirname, _, filenames in os.walk('/kaggle/input'):\n",
        "    for filename in filenames:\n",
        "        print(os.path.join(dirname, filename))\n",
        "\n",
        "# Any results you write to the current directory are saved as output."
      ],
      "execution_count": 0,
      "outputs": []
    },
    {
      "cell_type": "code",
      "metadata": {
        "_uuid": "d629ff2d2480ee46fbb7e2d37f6b5fab8052498a",
        "_cell_guid": "79c7e3d0-c299-4dcb-8224-4455121ee9b0",
        "trusted": true,
        "id": "Dv7mqchJLvlM",
        "colab_type": "code",
        "colab": {}
      },
      "source": [
        "df = pd.read_csv('/kaggle/input/graduate-admissions/Admission_Predict.csv',\n",
        "                    header=None,\n",
        "                    skiprows=[0],\n",
        "                    names=[\n",
        "                        'Id',\n",
        "                        'GRE_Score',\n",
        "                        'TOEFL_Score',\n",
        "                        'University_Rating',\n",
        "                        'LOR',\n",
        "                        'CGPA',\n",
        "                        'Research',\n",
        "                        'Chance_of_Admit'\n",
        "                    ])"
      ],
      "execution_count": 0,
      "outputs": []
    },
    {
      "cell_type": "code",
      "metadata": {
        "trusted": true,
        "id": "cOtPadj7LvlP",
        "colab_type": "code",
        "colab": {}
      },
      "source": [
        "df.head(10)"
      ],
      "execution_count": 0,
      "outputs": []
    },
    {
      "cell_type": "code",
      "metadata": {
        "trusted": true,
        "id": "kKtGnbHMLvlR",
        "colab_type": "code",
        "colab": {}
      },
      "source": [
        "df.describe(include='all')"
      ],
      "execution_count": 0,
      "outputs": []
    },
    {
      "cell_type": "markdown",
      "metadata": {
        "id": "JyYPjoz3LvlT",
        "colab_type": "text"
      },
      "source": [
        "Vamos salvar a base original em outro dataframe para podermos usar depois em outras aplicações."
      ]
    },
    {
      "cell_type": "code",
      "metadata": {
        "trusted": true,
        "id": "Gplw9QvLLvlU",
        "colab_type": "code",
        "colab": {}
      },
      "source": [
        "non_changeble_df = df.copy()"
      ],
      "execution_count": 0,
      "outputs": []
    },
    {
      "cell_type": "markdown",
      "metadata": {
        "id": "Hmw2bsxDLvlV",
        "colab_type": "text"
      },
      "source": [
        "### Remoção de Campos desnecessários \n",
        "O campo id informa apenas a identidade do usuário. Para fins de análise, esse campo não é necessário. Portanto precisamos removê-lo,"
      ]
    },
    {
      "cell_type": "code",
      "metadata": {
        "trusted": true,
        "id": "KA-PTnLRLvlW",
        "colab_type": "code",
        "colab": {}
      },
      "source": [
        "del df['Id']"
      ],
      "execution_count": 0,
      "outputs": []
    },
    {
      "cell_type": "code",
      "metadata": {
        "trusted": true,
        "id": "14pKMjsBLvlY",
        "colab_type": "code",
        "colab": {}
      },
      "source": [
        "print(df.dtypes)"
      ],
      "execution_count": 0,
      "outputs": []
    },
    {
      "cell_type": "markdown",
      "metadata": {
        "id": "AFm64TtfLvlZ",
        "colab_type": "text"
      },
      "source": [
        "### Ajustando os tipos de dados\n",
        "Para análise explintório, faz sentido convertermos os campos categóricos de forma legível."
      ]
    },
    {
      "cell_type": "code",
      "metadata": {
        "trusted": true,
        "id": "M1PtuReCLvla",
        "colab_type": "code",
        "colab": {},
        "outputId": "b5ea48d1-d67b-4838-befa-3c4dd16e48bd"
      },
      "source": [
        "df_exploratory = df.copy()\n",
        "new_research = pd.Categorical(df_exploratory['Research'])\n",
        "new_research = new_research.rename_categories(['sem_pesquisa', 'com_pesquisa'])\n",
        "df_exploratory['Research'] = new_research\n",
        "df_exploratory.head(5)"
      ],
      "execution_count": 0,
      "outputs": [
        {
          "output_type": "execute_result",
          "data": {
            "text/plain": [
              "   GRE_Score  TOEFL_Score  University_Rating  LOR  CGPA      Research  \\\n",
              "1        118            4                4.5  4.5  9.65  com_pesquisa   \n",
              "2        107            4                4.0  4.5  8.87  com_pesquisa   \n",
              "3        104            3                3.0  3.5  8.00  com_pesquisa   \n",
              "4        110            3                3.5  2.5  8.67  com_pesquisa   \n",
              "5        103            2                2.0  3.0  8.21  sem_pesquisa   \n",
              "\n",
              "   Chance_of_Admit  \n",
              "1             0.92  \n",
              "2             0.76  \n",
              "3             0.72  \n",
              "4             0.80  \n",
              "5             0.65  "
            ],
            "text/html": [
              "<div>\n",
              "<style scoped>\n",
              "    .dataframe tbody tr th:only-of-type {\n",
              "        vertical-align: middle;\n",
              "    }\n",
              "\n",
              "    .dataframe tbody tr th {\n",
              "        vertical-align: top;\n",
              "    }\n",
              "\n",
              "    .dataframe thead th {\n",
              "        text-align: right;\n",
              "    }\n",
              "</style>\n",
              "<table border=\"1\" class=\"dataframe\">\n",
              "  <thead>\n",
              "    <tr style=\"text-align: right;\">\n",
              "      <th></th>\n",
              "      <th>GRE_Score</th>\n",
              "      <th>TOEFL_Score</th>\n",
              "      <th>University_Rating</th>\n",
              "      <th>LOR</th>\n",
              "      <th>CGPA</th>\n",
              "      <th>Research</th>\n",
              "      <th>Chance_of_Admit</th>\n",
              "    </tr>\n",
              "  </thead>\n",
              "  <tbody>\n",
              "    <tr>\n",
              "      <th>1</th>\n",
              "      <td>118</td>\n",
              "      <td>4</td>\n",
              "      <td>4.5</td>\n",
              "      <td>4.5</td>\n",
              "      <td>9.65</td>\n",
              "      <td>com_pesquisa</td>\n",
              "      <td>0.92</td>\n",
              "    </tr>\n",
              "    <tr>\n",
              "      <th>2</th>\n",
              "      <td>107</td>\n",
              "      <td>4</td>\n",
              "      <td>4.0</td>\n",
              "      <td>4.5</td>\n",
              "      <td>8.87</td>\n",
              "      <td>com_pesquisa</td>\n",
              "      <td>0.76</td>\n",
              "    </tr>\n",
              "    <tr>\n",
              "      <th>3</th>\n",
              "      <td>104</td>\n",
              "      <td>3</td>\n",
              "      <td>3.0</td>\n",
              "      <td>3.5</td>\n",
              "      <td>8.00</td>\n",
              "      <td>com_pesquisa</td>\n",
              "      <td>0.72</td>\n",
              "    </tr>\n",
              "    <tr>\n",
              "      <th>4</th>\n",
              "      <td>110</td>\n",
              "      <td>3</td>\n",
              "      <td>3.5</td>\n",
              "      <td>2.5</td>\n",
              "      <td>8.67</td>\n",
              "      <td>com_pesquisa</td>\n",
              "      <td>0.80</td>\n",
              "    </tr>\n",
              "    <tr>\n",
              "      <th>5</th>\n",
              "      <td>103</td>\n",
              "      <td>2</td>\n",
              "      <td>2.0</td>\n",
              "      <td>3.0</td>\n",
              "      <td>8.21</td>\n",
              "      <td>sem_pesquisa</td>\n",
              "      <td>0.65</td>\n",
              "    </tr>\n",
              "  </tbody>\n",
              "</table>\n",
              "</div>"
            ]
          },
          "metadata": {
            "tags": []
          },
          "execution_count": 64
        }
      ]
    },
    {
      "cell_type": "code",
      "metadata": {
        "trusted": true,
        "id": "IDC7hqmMLvlc",
        "colab_type": "code",
        "colab": {},
        "outputId": "7124f274-f938-4ff2-c36c-119692b06e55"
      },
      "source": [
        "# imprimindo o tipo dos dados\n",
        "print('Tipos dos dados:\\n',format(df_exploratory.dtypes))"
      ],
      "execution_count": 0,
      "outputs": [
        {
          "output_type": "stream",
          "text": [
            "Tipos dos dados:\n",
            " GRE_Score               int64\n",
            "TOEFL_Score             int64\n",
            "University_Rating     float64\n",
            "LOR                   float64\n",
            "CGPA                  float64\n",
            "Research             category\n",
            "Chance_of_Admit       float64\n",
            "dtype: object\n"
          ],
          "name": "stdout"
        }
      ]
    },
    {
      "cell_type": "markdown",
      "metadata": {
        "id": "W5amfg_2Lvle",
        "colab_type": "text"
      },
      "source": [
        "## Análise Exploratória\n"
      ]
    },
    {
      "cell_type": "markdown",
      "metadata": {
        "id": "jahGHR1SLvlf",
        "colab_type": "text"
      },
      "source": [
        "Vamos verificar a distribuição dos dados usando histogramas."
      ]
    },
    {
      "cell_type": "code",
      "metadata": {
        "trusted": true,
        "id": "fMnm_GGTLvlg",
        "colab_type": "code",
        "colab": {}
      },
      "source": [
        "df.hist()"
      ],
      "execution_count": 0,
      "outputs": []
    },
    {
      "cell_type": "markdown",
      "metadata": {
        "id": "w4M3GMbNLvli",
        "colab_type": "text"
      },
      "source": [
        "## Detecção de Outliers\n",
        "\n"
      ]
    },
    {
      "cell_type": "code",
      "metadata": {
        "trusted": true,
        "id": "wTeNgXSwLvli",
        "colab_type": "code",
        "colab": {},
        "outputId": "446c44b1-16ee-4284-f526-277f3c01907c"
      },
      "source": [
        "ggplot(df_exploratory, aes(x='factor(Research)', y='Chance_of_Admit')) + \\\n",
        "           geom_boxplot() + \\\n",
        "           xlab(\"Pesquisa\") + \\\n",
        "           ylab(\"Chance de Admissão\")"
      ],
      "execution_count": 0,
      "outputs": [
        {
          "output_type": "stream",
          "text": [
            "/opt/conda/lib/python3.6/site-packages/plotnine/coords/coord_cartesian.py:31: MatplotlibDeprecationWarning: The Bunch class was deprecated in Matplotlib 3.0 and will be removed in 3.2. Use types.SimpleNamespace instead.\n",
            "  self.limits = Bunch(xlim=xlim, ylim=ylim)\n",
            "/opt/conda/lib/python3.6/copy.py:274: MatplotlibDeprecationWarning: The Bunch class was deprecated in Matplotlib 3.0 and will be removed in 3.2. Use types.SimpleNamespace instead.\n",
            "  y = func(*args)\n",
            "/opt/conda/lib/python3.6/site-packages/plotnine/facets/facet.py:151: MatplotlibDeprecationWarning: The Bunch class was deprecated in Matplotlib 3.0 and will be removed in 3.2. Use types.SimpleNamespace instead.\n",
            "  scales = Bunch()\n",
            "/opt/conda/lib/python3.6/site-packages/plotnine/facets/layout.py:147: MatplotlibDeprecationWarning: The Bunch class was deprecated in Matplotlib 3.0 and will be removed in 3.2. Use types.SimpleNamespace instead.\n",
            "  return Bunch(x=xsc, y=ysc)\n"
          ],
          "name": "stderr"
        },
        {
          "output_type": "display_data",
          "data": {
            "text/plain": [
              "<Figure size 640x480 with 1 Axes>"
            ],
            "image/png": "[encoded data removed]"
          },
          "metadata": {
            "tags": []
          }
        },
        {
          "output_type": "execute_result",
          "data": {
            "text/plain": [
              "<ggplot: (8739327840064)>"
            ]
          },
          "metadata": {
            "tags": []
          },
          "execution_count": 66
        }
      ]
    },
    {
      "cell_type": "markdown",
      "metadata": {
        "id": "VeK73nVVLvlk",
        "colab_type": "text"
      },
      "source": [
        "#### NOTA - CONCLUSÃO\n",
        "\n",
        "Pelo gráfico, podemos ver que o fato de ter uma pesquisa puplicada aumenta consideravelmente as chances de admissçao de um candidato ."
      ]
    },
    {
      "cell_type": "code",
      "metadata": {
        "trusted": true,
        "id": "Kf9YWZreLvll",
        "colab_type": "code",
        "colab": {},
        "outputId": "24c816d1-3c70-4889-a6e6-4d7989982145"
      },
      "source": [
        "index = np.where(df_exploratory['Chance_of_Admit'] == min(df_exploratory['Chance_of_Admit']))\n",
        "print(\"Registros com valores extremos:\\n\", df_exploratory.loc[index], sep='\\n')"
      ],
      "execution_count": 0,
      "outputs": [
        {
          "output_type": "stream",
          "text": [
            "Registros com valores extremos:\n",
            "\n",
            "     GRE_Score  TOEFL_Score  University_Rating  LOR  CGPA      Research  \\\n",
            "92          97            3                5.0  3.5  7.66  sem_pesquisa   \n",
            "376        101            2                2.0  2.5  7.66  sem_pesquisa   \n",
            "\n",
            "     Chance_of_Admit  \n",
            "92              0.38  \n",
            "376             0.38  \n"
          ],
          "name": "stdout"
        }
      ]
    },
    {
      "cell_type": "code",
      "metadata": {
        "trusted": true,
        "id": "V-fFihVRLvln",
        "colab_type": "code",
        "colab": {}
      },
      "source": [
        "bins = [(df_exploratory['Chance_of_Admit'] < 0.7),\n",
        "        (df_exploratory['Chance_of_Admit'] >= 0.7)\n",
        "]\n",
        "lables = ['< 70%', '>= 70%']\n",
        "df_exploratory['passou'] = np.select(bins, lables)\n"
      ],
      "execution_count": 0,
      "outputs": []
    },
    {
      "cell_type": "code",
      "metadata": {
        "trusted": true,
        "id": "GWRMuGnLLvlo",
        "colab_type": "code",
        "colab": {},
        "outputId": "3c2e617b-74ea-47dd-f744-56f1f9043559"
      },
      "source": [
        "ggplot(df_exploratory, aes(x='Research', y='TOEFL_Score', color='passou')) + \\\n",
        "geom_boxplot() "
      ],
      "execution_count": 0,
      "outputs": [
        {
          "output_type": "stream",
          "text": [
            "/opt/conda/lib/python3.6/site-packages/plotnine/coords/coord_cartesian.py:31: MatplotlibDeprecationWarning: The Bunch class was deprecated in Matplotlib 3.0 and will be removed in 3.2. Use types.SimpleNamespace instead.\n",
            "  self.limits = Bunch(xlim=xlim, ylim=ylim)\n",
            "/opt/conda/lib/python3.6/copy.py:274: MatplotlibDeprecationWarning: The Bunch class was deprecated in Matplotlib 3.0 and will be removed in 3.2. Use types.SimpleNamespace instead.\n",
            "  y = func(*args)\n",
            "/opt/conda/lib/python3.6/site-packages/plotnine/facets/facet.py:151: MatplotlibDeprecationWarning: The Bunch class was deprecated in Matplotlib 3.0 and will be removed in 3.2. Use types.SimpleNamespace instead.\n",
            "  scales = Bunch()\n",
            "/opt/conda/lib/python3.6/site-packages/plotnine/facets/layout.py:147: MatplotlibDeprecationWarning: The Bunch class was deprecated in Matplotlib 3.0 and will be removed in 3.2. Use types.SimpleNamespace instead.\n",
            "  return Bunch(x=xsc, y=ysc)\n",
            "/opt/conda/lib/python3.6/site-packages/plotnine/guides/guide_legend.py:179: MatplotlibDeprecationWarning: The Bunch class was deprecated in Matplotlib 3.0 and will be removed in 3.2. Use types.SimpleNamespace instead.\n",
            "  self.glayers.append(Bunch(geom=geom, data=data, layer=l))\n"
          ],
          "name": "stderr"
        },
        {
          "output_type": "display_data",
          "data": {
            "text/plain": [
              "<Figure size 640x480 with 1 Axes>"
            ],
            "image/png": "[encoded data removed]"
          },
          "metadata": {
            "tags": []
          }
        },
        {
          "output_type": "execute_result",
          "data": {
            "text/plain": [
              "<ggplot: (8739327817350)>"
            ]
          },
          "metadata": {
            "tags": []
          },
          "execution_count": 69
        }
      ]
    },
    {
      "cell_type": "code",
      "metadata": {
        "trusted": true,
        "id": "yxVZllbILvlq",
        "colab_type": "code",
        "colab": {},
        "outputId": "62882fda-fc69-41c2-a518-59109cbb65f9"
      },
      "source": [
        "ggplot(df_exploratory, aes(x='Research', y='University_Rating', color='passou')) + \\\n",
        "geom_boxplot() "
      ],
      "execution_count": 0,
      "outputs": [
        {
          "output_type": "stream",
          "text": [
            "/opt/conda/lib/python3.6/site-packages/plotnine/coords/coord_cartesian.py:31: MatplotlibDeprecationWarning: The Bunch class was deprecated in Matplotlib 3.0 and will be removed in 3.2. Use types.SimpleNamespace instead.\n",
            "  self.limits = Bunch(xlim=xlim, ylim=ylim)\n",
            "/opt/conda/lib/python3.6/copy.py:274: MatplotlibDeprecationWarning: The Bunch class was deprecated in Matplotlib 3.0 and will be removed in 3.2. Use types.SimpleNamespace instead.\n",
            "  y = func(*args)\n",
            "/opt/conda/lib/python3.6/site-packages/plotnine/facets/facet.py:151: MatplotlibDeprecationWarning: The Bunch class was deprecated in Matplotlib 3.0 and will be removed in 3.2. Use types.SimpleNamespace instead.\n",
            "  scales = Bunch()\n",
            "/opt/conda/lib/python3.6/site-packages/plotnine/facets/layout.py:147: MatplotlibDeprecationWarning: The Bunch class was deprecated in Matplotlib 3.0 and will be removed in 3.2. Use types.SimpleNamespace instead.\n",
            "  return Bunch(x=xsc, y=ysc)\n",
            "/opt/conda/lib/python3.6/site-packages/plotnine/guides/guide_legend.py:179: MatplotlibDeprecationWarning: The Bunch class was deprecated in Matplotlib 3.0 and will be removed in 3.2. Use types.SimpleNamespace instead.\n",
            "  self.glayers.append(Bunch(geom=geom, data=data, layer=l))\n"
          ],
          "name": "stderr"
        },
        {
          "output_type": "display_data",
          "data": {
            "text/plain": [
              "<Figure size 640x480 with 1 Axes>"
            ],
            "image/png": "[encoded data removed]"
          },
          "metadata": {
            "tags": []
          }
        },
        {
          "output_type": "execute_result",
          "data": {
            "text/plain": [
              "<ggplot: (8739327807117)>"
            ]
          },
          "metadata": {
            "tags": []
          },
          "execution_count": 70
        }
      ]
    },
    {
      "cell_type": "code",
      "metadata": {
        "trusted": true,
        "id": "_7AFER-tLvls",
        "colab_type": "code",
        "colab": {},
        "outputId": "56e5b710-5874-4512-ebb5-bb7993850bc2"
      },
      "source": [
        "ggplot(df_exploratory, aes(x='Research', y='GRE_Score', color='passou')) + \\\n",
        "geom_boxplot() "
      ],
      "execution_count": 0,
      "outputs": [
        {
          "output_type": "stream",
          "text": [
            "/opt/conda/lib/python3.6/site-packages/plotnine/coords/coord_cartesian.py:31: MatplotlibDeprecationWarning: The Bunch class was deprecated in Matplotlib 3.0 and will be removed in 3.2. Use types.SimpleNamespace instead.\n",
            "  self.limits = Bunch(xlim=xlim, ylim=ylim)\n",
            "/opt/conda/lib/python3.6/copy.py:274: MatplotlibDeprecationWarning: The Bunch class was deprecated in Matplotlib 3.0 and will be removed in 3.2. Use types.SimpleNamespace instead.\n",
            "  y = func(*args)\n",
            "/opt/conda/lib/python3.6/site-packages/plotnine/facets/facet.py:151: MatplotlibDeprecationWarning: The Bunch class was deprecated in Matplotlib 3.0 and will be removed in 3.2. Use types.SimpleNamespace instead.\n",
            "  scales = Bunch()\n",
            "/opt/conda/lib/python3.6/site-packages/plotnine/facets/layout.py:147: MatplotlibDeprecationWarning: The Bunch class was deprecated in Matplotlib 3.0 and will be removed in 3.2. Use types.SimpleNamespace instead.\n",
            "  return Bunch(x=xsc, y=ysc)\n",
            "/opt/conda/lib/python3.6/site-packages/plotnine/guides/guide_legend.py:179: MatplotlibDeprecationWarning: The Bunch class was deprecated in Matplotlib 3.0 and will be removed in 3.2. Use types.SimpleNamespace instead.\n",
            "  self.glayers.append(Bunch(geom=geom, data=data, layer=l))\n"
          ],
          "name": "stderr"
        },
        {
          "output_type": "display_data",
          "data": {
            "text/plain": [
              "<Figure size 640x480 with 1 Axes>"
            ],
            "image/png": "[encoded data removed]"
          },
          "metadata": {
            "tags": []
          }
        },
        {
          "output_type": "execute_result",
          "data": {
            "text/plain": [
              "<ggplot: (-9223363297527005198)>"
            ]
          },
          "metadata": {
            "tags": []
          },
          "execution_count": 71
        }
      ]
    },
    {
      "cell_type": "code",
      "metadata": {
        "trusted": true,
        "id": "vpF62K2mLvlt",
        "colab_type": "code",
        "colab": {}
      },
      "source": [
        "from pandas.plotting import scatter_matrix\n",
        "attributes = [\"Chance_of_Admit\", \"University_Rating\", \"TOEFL_Score\",\n",
        "\"GRE_Score\"]\n",
        "scatter_matrix(df_exploratory, figsize=(16, 12))"
      ],
      "execution_count": 0,
      "outputs": []
    },
    {
      "cell_type": "markdown",
      "metadata": {
        "id": "vXq7mCZELvlw",
        "colab_type": "text"
      },
      "source": [
        "# Variable Correlation"
      ]
    },
    {
      "cell_type": "code",
      "metadata": {
        "trusted": true,
        "id": "WK5t1oLKLvlw",
        "colab_type": "code",
        "colab": {}
      },
      "source": [
        "corr_matrix = df.corr()\n",
        "corr_matrix"
      ],
      "execution_count": 0,
      "outputs": []
    },
    {
      "cell_type": "code",
      "metadata": {
        "trusted": true,
        "id": "h089CfjcLvlz",
        "colab_type": "code",
        "colab": {}
      },
      "source": [
        "import seaborn as sns  #library for heatmap\n",
        "\n",
        "#generate a heatmap\n",
        "sns.heatmap(corr_matrix, annot=True)\n",
        "plt.show()"
      ],
      "execution_count": 0,
      "outputs": []
    },
    {
      "cell_type": "markdown",
      "metadata": {
        "id": "XgXlxLdKLvl2",
        "colab_type": "text"
      },
      "source": [
        "# ML"
      ]
    },
    {
      "cell_type": "markdown",
      "metadata": {
        "id": "6a3riQ0uLvl2",
        "colab_type": "text"
      },
      "source": [
        "### Multicolinearidade\n",
        "\n",
        "O teste VIF, visa testar multicolinearidade entre os tributos de uma variável. Em modelos e algoritmos de ML, deve-se evitar o uso de atributos preditores que estejam altamente correlacionados."
      ]
    },
    {
      "cell_type": "code",
      "metadata": {
        "trusted": true,
        "id": "LpENS_ujLvl3",
        "colab_type": "code",
        "colab": {}
      },
      "source": [
        "from sklearn import linear_model\n",
        "import statsmodels.api as sm\n",
        "from scipy import stats\n",
        "\n",
        "\n",
        "ml_df = non_changeble_df.copy()\n"
      ],
      "execution_count": 0,
      "outputs": []
    },
    {
      "cell_type": "code",
      "metadata": {
        "trusted": true,
        "id": "iisEOe0KLvl4",
        "colab_type": "code",
        "colab": {}
      },
      "source": [
        "#Realiza a função para o estimador VIF, a fim de removermos variáveis com multicoinearidade\n",
        "def vif_cal(input_data, dependent_col):\n",
        "  import statsmodels.formula.api as smf\n",
        "  x_vars = input_data.drop([dependent_col], axis=1)\n",
        "  xvar_names=x_vars.columns\n",
        "  for i in range(0, xvar_names.shape[0]):\n",
        "    y=x_vars[xvar_names[i]]\n",
        "    x=x_vars[xvar_names.drop(xvar_names[i])]\n",
        "    rsq=smf.ols(formula=\"y~x\", data = x_vars).fit().rsquared\n",
        "    vif=round(1/(1-rsq), 2)\n",
        "    print(xvar_names[i], \"VIF = \", vif)\n",
        "\n",
        "\n",
        "vif_cal(input_data=ml_df, dependent_col=\"Chance_of_Admit\")"
      ],
      "execution_count": 0,
      "outputs": []
    },
    {
      "cell_type": "markdown",
      "metadata": {
        "id": "VnhrLMeyLvl6",
        "colab_type": "text"
      },
      "source": [
        "No caso, se o VIF fosse superior a  deveriámos remover esse atributo do data_set. Como não obtiveos VIFs maiores que 5 podemos seguir:"
      ]
    },
    {
      "cell_type": "code",
      "metadata": {
        "trusted": true,
        "id": "r8MLSMd4Lvl7",
        "colab_type": "code",
        "colab": {}
      },
      "source": [
        "X = ml_df[['GRE_Score'] + ['TOEFL_Score'] + ['University_Rating'] + ['LOR'] + ['CGPA'] + ['Research'] + ['GRE_Score']]\n",
        "\n",
        "X_train, X_test, y_train, y_test = train_test_split(X, y, random_state=45)\n",
        "\n",
        "y = ml_df[['Chance_of_Admit']]\n",
        "\n",
        "print(\"X dimenssions: \", X.shape)\n",
        "print(\"y dimenssions: \", y.shape)"
      ],
      "execution_count": 0,
      "outputs": []
    },
    {
      "cell_type": "code",
      "metadata": {
        "trusted": true,
        "id": "zzD4-SsALvl-",
        "colab_type": "code",
        "colab": {}
      },
      "source": [
        "X1 = sm.add_constant(X)\n",
        "ols_admission_model1 = sm.OLS(y, X1).fit()\n",
        "print(ols_admission_model1.summary())"
      ],
      "execution_count": 0,
      "outputs": []
    },
    {
      "cell_type": "code",
      "metadata": {
        "trusted": true,
        "id": "tdcNYZj_Lvl_",
        "colab_type": "code",
        "colab": {}
      },
      "source": [
        "lr = linear_model.LinearRegression()\n",
        "model1 = lr.fit(X_train, y_train)\n",
        "\n",
        "print(\"Regressão Linear (com atributos redundantes)\")\n",
        "print(\"Acurácia na base de treinamento: {:.2f}\".format(lr.score(X_train, y_train)))\n",
        "print(\"Acurácia na base de teste: {:.2f}\".format(lr.score(X_test, y_test)))"
      ],
      "execution_count": 0,
      "outputs": []
    },
    {
      "cell_type": "markdown",
      "metadata": {
        "id": "XIs9aBgSLvmE",
        "colab_type": "text"
      },
      "source": [
        "### Conclusão\n",
        "\n",
        "Separando as base original em uma bases de treinamento, e usando um modelo de regressão linear, obtivemos uma acurácia de 78%."
      ]
    },
    {
      "cell_type": "markdown",
      "metadata": {
        "id": "qrjSQWYlLvmF",
        "colab_type": "text"
      },
      "source": [
        "## Usando o método MixMaxScaler"
      ]
    },
    {
      "cell_type": "code",
      "metadata": {
        "trusted": true,
        "id": "EBsdXzSOLvmF",
        "colab_type": "code",
        "colab": {}
      },
      "source": [
        "from sklearn.datasets import load_boston\n",
        "from sklearn.model_selection import train_test_split\n",
        "from sklearn.preprocessing import MinMaxScaler, PolynomialFeatures\n",
        "from sklearn.linear_model import LinearRegression, Ridge, Lasso\n",
        "\n",
        "X = ml_df[['GRE_Score'] + ['TOEFL_Score'] + ['University_Rating'] + ['LOR'] + ['CGPA'] + ['Research'] + ['GRE_Score']]\n",
        "\n",
        "X_train, X_test, y_train, y_test = train_test_split(X, y, random_state=45)\n",
        "\n",
        "y = ml_df[['Chance_of_Admit']]\n",
        "\n",
        "print('Atributos originais: ', X.shape)\n",
        "\n",
        "X = MinMaxScaler().fit_transform(ml_df)\n",
        "X = PolynomialFeatures(degree=2, include_bias=False).fit_transform(X)\n",
        "\n",
        "print('Polynomial Feature (atributos redundantes)')\n",
        "print(X.shape)\n",
        "y = ml_df[['Chance_of_Admit']]"
      ],
      "execution_count": 0,
      "outputs": []
    },
    {
      "cell_type": "code",
      "metadata": {
        "trusted": true,
        "id": "hbNsj1kyLvmH",
        "colab_type": "code",
        "colab": {}
      },
      "source": [
        "lr = LinearRegression().fit(X_train, y_train)\n",
        "\n",
        "print(\"Regressão Linear (com atributos redundantes)\")\n",
        "print(\"Acurácia na base de treinamento: {:.2f}\".format(lr.score(X_train, y_train)))\n",
        "print(\"Acurácia na base de teste: {:.2f}\".format(lr.score(X_test, y_test)))\n"
      ],
      "execution_count": 0,
      "outputs": []
    },
    {
      "cell_type": "markdown",
      "metadata": {
        "id": "-jejzrilLvmI",
        "colab_type": "text"
      },
      "source": [
        "## Usando Ridge (Regressão linear com regularização L2)"
      ]
    },
    {
      "cell_type": "code",
      "metadata": {
        "trusted": true,
        "id": "3SOqTA0ZLvmJ",
        "colab_type": "code",
        "colab": {}
      },
      "source": [
        "ridge = Ridge().fit(X_train, y_train)\n",
        "print(\"Ridge alpha=1\")\n",
        "print(\"Acurácia na base de treinamento: {:.2f}\".format(ridge.score(X_train, y_train)))\n",
        "print(\"Acurácia na base de teste: {:.2f}\".format(ridge.score(X_test, y_test)))\n",
        "\n",
        "ridge10 = Ridge(alpha=10).fit(X_train, y_train)\n",
        "print(\"Ridge alpha=10\")\n",
        "print(\"Acurácia na base de treinamento: {:.2f}\".format(ridge10.score(X_train, y_train)))\n",
        "print(\"Acurácia na base de teste: {:.2f}\".format(ridge10.score(X_test, y_test)))\n",
        "\n",
        "\n",
        "ridge01 = Ridge(alpha=0.1).fit(X_train, y_train)\n",
        "print(\"Ridge alpha=0.1\")\n",
        "print(\"Acurácia na base de treinamento: {:.2f}\".format(ridge01.score(X_train, y_train)))\n",
        "print(\"Acurácia na base de teste: {:.2f}\".format(ridge01.score(X_test, y_test)))"
      ],
      "execution_count": 0,
      "outputs": []
    }
  ]
}